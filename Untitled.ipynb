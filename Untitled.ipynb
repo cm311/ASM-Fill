{
 "cells": [
  {
   "cell_type": "code",
   "execution_count": 1,
   "id": "272e579a-f440-4f61-a5f8-23102951f628",
   "metadata": {},
   "outputs": [],
   "source": [
    "\n",
    "stores = [9234, 8820, 8833, 8812, 8825, 9235, 8820, 8830, 8808, 9236, 8829, 8811, 8816, 8833, 8825, 8833, 8800, 8840, 9236, 8836]\n",
    "\n",
    "stores.sort()\n"
   ]
  },
  {
   "cell_type": "code",
   "execution_count": 2,
   "id": "e9252e91-78c4-47be-9d56-fc37f4ce2ff4",
   "metadata": {},
   "outputs": [
    {
     "data": {
      "text/plain": [
       "[8800,\n",
       " 8808,\n",
       " 8811,\n",
       " 8812,\n",
       " 8816,\n",
       " 8820,\n",
       " 8820,\n",
       " 8825,\n",
       " 8825,\n",
       " 8829,\n",
       " 8830,\n",
       " 8833,\n",
       " 8833,\n",
       " 8833,\n",
       " 8836,\n",
       " 8840,\n",
       " 9234,\n",
       " 9235,\n",
       " 9236,\n",
       " 9236]"
      ]
     },
     "execution_count": 2,
     "metadata": {},
     "output_type": "execute_result"
    }
   ],
   "source": [
    "stores"
   ]
  },
  {
   "cell_type": "code",
   "execution_count": 7,
   "id": "c1f303ed-7a9a-4004-8bf7-8a8b80deb93d",
   "metadata": {},
   "outputs": [],
   "source": [
    "l = list(set(stores)).sort()\n",
    "\n",
    "l"
   ]
  },
  {
   "cell_type": "code",
   "execution_count": 10,
   "id": "5667920d-12cf-4a44-9df8-f192f3a2fcf4",
   "metadata": {},
   "outputs": [
    {
     "data": {
      "text/plain": [
       "{8800,\n",
       " 8808,\n",
       " 8811,\n",
       " 8812,\n",
       " 8816,\n",
       " 8820,\n",
       " 8825,\n",
       " 8829,\n",
       " 8830,\n",
       " 8833,\n",
       " 8836,\n",
       " 8840,\n",
       " 9234,\n",
       " 9235,\n",
       " 9236}"
      ]
     },
     "execution_count": 10,
     "metadata": {},
     "output_type": "execute_result"
    }
   ],
   "source": [
    "set(stores)"
   ]
  },
  {
   "cell_type": "markdown",
   "id": "e8f5f4a8-6d36-408e-a3c2-0c08ea24930c",
   "metadata": {},
   "source": [
    "##Here are the stores that have had logged issues with Evertec devices and where we currently stand with them\n",
    "\n",
    "8800 - Replaced devices, issue resolved\n",
    "8808 - called store, register 2 ATH is not working\n",
    "8811 - called store, they are working fine\n",
    "8812 - swapped profiles, they are working fine\n",
    "8816 - replaced devices, issue resolved\n",
    "8819 - Currently not working\n",
    "8820 - they are working fine\n",
    "8825 - they are working fine \n",
    "8829 - they work intermittently, but sometimes the customer gets double charged\n",
    "8830 - they are working fine\n",
    "8833 - Called store, they are working fine, were never replaced\n",
    "8836 - replaced devices, they are working fine\n",
    "8837 - devices not working\n",
    "8840 - they are working fine\n",
    "9234 - devices not working, likely other networking issues causing this\n",
    "9235 - they are working fine, devices were set as non integrated\n",
    "9236 - replaced devices, issue resolved\n",
    "\n"
   ]
  },
  {
   "cell_type": "code",
   "execution_count": null,
   "id": "760f17d5-b0e7-4a19-a8e3-c65aab22ebe4",
   "metadata": {},
   "outputs": [],
   "source": []
  }
 ],
 "metadata": {
  "kernelspec": {
   "display_name": "Python 3 (ipykernel)",
   "language": "python",
   "name": "python3"
  },
  "language_info": {
   "codemirror_mode": {
    "name": "ipython",
    "version": 3
   },
   "file_extension": ".py",
   "mimetype": "text/x-python",
   "name": "python",
   "nbconvert_exporter": "python",
   "pygments_lexer": "ipython3",
   "version": "3.11.6"
  }
 },
 "nbformat": 4,
 "nbformat_minor": 5
}
